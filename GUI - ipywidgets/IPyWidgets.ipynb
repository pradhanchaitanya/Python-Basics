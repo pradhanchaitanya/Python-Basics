{
 "cells": [
  {
   "cell_type": "markdown",
   "metadata": {},
   "source": [
    "<img src=\"../Screenshot from 2018-12-04 23-51-15.png\">"
   ]
  },
  {
   "cell_type": "markdown",
   "metadata": {},
   "source": [
    "<a href=\"https://ipywidgets.readthedocs.io/en/stable/#ipywidgets\">[IpyWidgets Documentation]</a>"
   ]
  },
  {
   "cell_type": "markdown",
   "metadata": {},
   "source": [
    "### --- Lecture 1 ---"
   ]
  },
  {
   "cell_type": "code",
   "execution_count": 1,
   "metadata": {},
   "outputs": [],
   "source": [
    "from ipywidgets import interact, interactive, fixed\n",
    "import ipywidgets as widgets"
   ]
  },
  {
   "cell_type": "code",
   "execution_count": 2,
   "metadata": {},
   "outputs": [],
   "source": [
    "def func(x):\n",
    "    return x"
   ]
  },
  {
   "cell_type": "code",
   "execution_count": 3,
   "metadata": {},
   "outputs": [
    {
     "data": {
      "application/vnd.jupyter.widget-view+json": {
       "model_id": "75858609632c49b0920d3e25a17074af",
       "version_major": 2,
       "version_minor": 0
      },
      "text/plain": [
       "interactive(children=(IntSlider(value=10, description='x', max=30, min=-10), Output()), _dom_classes=('widget-…"
      ]
     },
     "metadata": {},
     "output_type": "display_data"
    },
    {
     "data": {
      "text/plain": [
       "<function __main__.func(x)>"
      ]
     },
     "execution_count": 3,
     "metadata": {},
     "output_type": "execute_result"
    }
   ],
   "source": [
    "# integer\n",
    "interact(func, x=10)"
   ]
  },
  {
   "cell_type": "code",
   "execution_count": 4,
   "metadata": {},
   "outputs": [
    {
     "data": {
      "application/vnd.jupyter.widget-view+json": {
       "model_id": "cbbe30ddccc043eaabc32096441f4cf6",
       "version_major": 2,
       "version_minor": 0
      },
      "text/plain": [
       "interactive(children=(Checkbox(value=True, description='x'), Output()), _dom_classes=('widget-interact',))"
      ]
     },
     "metadata": {},
     "output_type": "display_data"
    },
    {
     "data": {
      "text/plain": [
       "<function __main__.func(x)>"
      ]
     },
     "execution_count": 4,
     "metadata": {},
     "output_type": "execute_result"
    }
   ],
   "source": [
    "# boolean\n",
    "interact(func, x=True)"
   ]
  },
  {
   "cell_type": "code",
   "execution_count": 5,
   "metadata": {},
   "outputs": [
    {
     "data": {
      "application/vnd.jupyter.widget-view+json": {
       "model_id": "e731b71e48d343cea93a28d5987589b7",
       "version_major": 2,
       "version_minor": 0
      },
      "text/plain": [
       "interactive(children=(Text(value='', description='x'), Output()), _dom_classes=('widget-interact',))"
      ]
     },
     "metadata": {},
     "output_type": "display_data"
    },
    {
     "data": {
      "text/plain": [
       "<function __main__.func(x)>"
      ]
     },
     "execution_count": 5,
     "metadata": {},
     "output_type": "execute_result"
    }
   ],
   "source": [
    "# string\n",
    "interact(func, x=\"\")"
   ]
  },
  {
   "cell_type": "markdown",
   "metadata": {},
   "source": [
    "### Using a `decorator`"
   ]
  },
  {
   "cell_type": "code",
   "execution_count": 6,
   "metadata": {},
   "outputs": [
    {
     "data": {
      "application/vnd.jupyter.widget-view+json": {
       "model_id": "de03dc7155534d03a6c8eeb5c976cee2",
       "version_major": 2,
       "version_minor": 0
      },
      "text/plain": [
       "interactive(children=(Checkbox(value=True, description='x'), FloatSlider(value=1.0, description='y', max=3.0, …"
      ]
     },
     "metadata": {},
     "output_type": "display_data"
    }
   ],
   "source": [
    "@interact(x=True, y=1.0)\n",
    "def g(x, y):\n",
    "    return (x,y)"
   ]
  },
  {
   "cell_type": "code",
   "execution_count": 8,
   "metadata": {},
   "outputs": [
    {
     "data": {
      "application/vnd.jupyter.widget-view+json": {
       "model_id": "2d8a912c1cb542f6bdad98d621e49d6f",
       "version_major": 2,
       "version_minor": 0
      },
      "text/plain": [
       "interactive(children=(Checkbox(value=True, description='x'), Output()), _dom_classes=('widget-interact',))"
      ]
     },
     "metadata": {},
     "output_type": "display_data"
    }
   ],
   "source": [
    "@interact(x=True, y=fixed(1.0))\n",
    "def g(x, y):\n",
    "    return (x,y)"
   ]
  },
  {
   "cell_type": "code",
   "execution_count": 9,
   "metadata": {},
   "outputs": [
    {
     "data": {
      "application/vnd.jupyter.widget-view+json": {
       "model_id": "9214094d5cd141bfa756400604b78d3a",
       "version_major": 2,
       "version_minor": 0
      },
      "text/plain": [
       "interactive(children=(IntSlider(value=0, description='x', min=-100, step=2), Output()), _dom_classes=('widget-…"
      ]
     },
     "metadata": {},
     "output_type": "display_data"
    },
    {
     "data": {
      "text/plain": [
       "<function __main__.func(x)>"
      ]
     },
     "execution_count": 9,
     "metadata": {},
     "output_type": "execute_result"
    }
   ],
   "source": [
    "# specifying a range and step-size\n",
    "interact(func, x=widgets.IntSlider(min=-10, max=10, step=2, value=0))"
   ]
  },
  {
   "cell_type": "code",
   "execution_count": 10,
   "metadata": {},
   "outputs": [
    {
     "data": {
      "application/vnd.jupyter.widget-view+json": {
       "model_id": "1a633d58b2e743ff98ece8b2eb973b2f",
       "version_major": 2,
       "version_minor": 0
      },
      "text/plain": [
       "interactive(children=(IntSlider(value=0, description='x', max=10, min=-10), Output()), _dom_classes=('widget-i…"
      ]
     },
     "metadata": {},
     "output_type": "display_data"
    },
    {
     "data": {
      "text/plain": [
       "<function __main__.func(x)>"
      ]
     },
     "execution_count": 10,
     "metadata": {},
     "output_type": "execute_result"
    }
   ],
   "source": [
    "# abbreviation\n",
    "interact(func, x=(-10,10,1))"
   ]
  },
  {
   "cell_type": "code",
   "execution_count": 11,
   "metadata": {},
   "outputs": [
    {
     "data": {
      "application/vnd.jupyter.widget-view+json": {
       "model_id": "9a37c9683b8d4a5886aeb4154e2f56ab",
       "version_major": 2,
       "version_minor": 0
      },
      "text/plain": [
       "interactive(children=(Dropdown(description='x', options=('Option 1', 'Option 2', 'Option 3'), value='Option 1'…"
      ]
     },
     "metadata": {},
     "output_type": "display_data"
    },
    {
     "data": {
      "text/plain": [
       "<function __main__.func(x)>"
      ]
     },
     "execution_count": 11,
     "metadata": {},
     "output_type": "execute_result"
    }
   ],
   "source": [
    "# dropdown\n",
    "interact(func, x=['Option 1', 'Option 2', 'Option 3'])"
   ]
  },
  {
   "cell_type": "code",
   "execution_count": 12,
   "metadata": {},
   "outputs": [
    {
     "data": {
      "application/vnd.jupyter.widget-view+json": {
       "model_id": "ad8da668b3a949fa94877a85625979df",
       "version_major": 2,
       "version_minor": 0
      },
      "text/plain": [
       "interactive(children=(Dropdown(description='x', options={'Option 1': 1, 'Option 2': 2, 'Option 3': 3}, value=1…"
      ]
     },
     "metadata": {},
     "output_type": "display_data"
    },
    {
     "data": {
      "text/plain": [
       "<function __main__.func(x)>"
      ]
     },
     "execution_count": 12,
     "metadata": {},
     "output_type": "execute_result"
    }
   ],
   "source": [
    "# passing a dictionary\n",
    "# keys are dropdown options and values are the actual values of the dropdown option\n",
    "interact(func, x={'Option 1':1, 'Option 2':2, 'Option 3':3})"
   ]
  },
  {
   "cell_type": "code",
   "execution_count": 13,
   "metadata": {},
   "outputs": [],
   "source": [
    "# interactive functionality\n",
    "from IPython.display import display"
   ]
  },
  {
   "cell_type": "code",
   "execution_count": 14,
   "metadata": {},
   "outputs": [],
   "source": [
    "def f(a, b):\n",
    "    display(a, b)\n",
    "    return a + b"
   ]
  },
  {
   "cell_type": "code",
   "execution_count": 15,
   "metadata": {},
   "outputs": [],
   "source": [
    "w = interactive(f, a=10, b=20)"
   ]
  },
  {
   "cell_type": "code",
   "execution_count": 16,
   "metadata": {},
   "outputs": [
    {
     "data": {
      "text/plain": [
       "ipywidgets.widgets.interaction.interactive"
      ]
     },
     "execution_count": 16,
     "metadata": {},
     "output_type": "execute_result"
    }
   ],
   "source": [
    "type(w)"
   ]
  },
  {
   "cell_type": "code",
   "execution_count": 17,
   "metadata": {},
   "outputs": [
    {
     "data": {
      "text/plain": [
       "(IntSlider(value=10, description='a', max=30, min=-10),\n",
       " IntSlider(value=20, description='b', max=60, min=-20),\n",
       " Output())"
      ]
     },
     "execution_count": 17,
     "metadata": {},
     "output_type": "execute_result"
    }
   ],
   "source": [
    "w.children"
   ]
  },
  {
   "cell_type": "code",
   "execution_count": 18,
   "metadata": {},
   "outputs": [
    {
     "data": {
      "application/vnd.jupyter.widget-view+json": {
       "model_id": "533c4b15e7254afbbb9d77d5f232ade2",
       "version_major": 2,
       "version_minor": 0
      },
      "text/plain": [
       "interactive(children=(IntSlider(value=10, description='a', max=30, min=-10), IntSlider(value=20, description='…"
      ]
     },
     "metadata": {},
     "output_type": "display_data"
    }
   ],
   "source": [
    "display(w)"
   ]
  },
  {
   "cell_type": "markdown",
   "metadata": {},
   "source": [
    "### --- Lecture 2 ---"
   ]
  },
  {
   "cell_type": "code",
   "execution_count": 19,
   "metadata": {},
   "outputs": [],
   "source": [
    "import ipywidgets as widgets"
   ]
  },
  {
   "cell_type": "code",
   "execution_count": 20,
   "metadata": {},
   "outputs": [],
   "source": [
    "w = widgets.IntSlider()"
   ]
  },
  {
   "cell_type": "code",
   "execution_count": 21,
   "metadata": {},
   "outputs": [],
   "source": [
    "from IPython.display import display"
   ]
  },
  {
   "cell_type": "code",
   "execution_count": 22,
   "metadata": {},
   "outputs": [
    {
     "data": {
      "application/vnd.jupyter.widget-view+json": {
       "model_id": "",
       "version_major": 2,
       "version_minor": 0
      },
      "text/plain": [
       "IntSlider(value=0)"
      ]
     },
     "metadata": {},
     "output_type": "display_data"
    }
   ],
   "source": [
    "display(w)"
   ]
  },
  {
   "cell_type": "code",
   "execution_count": 23,
   "metadata": {},
   "outputs": [
    {
     "data": {
      "application/vnd.jupyter.widget-view+json": {
       "model_id": "",
       "version_major": 2,
       "version_minor": 0
      },
      "text/plain": [
       "IntSlider(value=0)"
      ]
     },
     "metadata": {},
     "output_type": "display_data"
    }
   ],
   "source": [
    "# displaying the same widget twice syncs them\n",
    "display(w)"
   ]
  },
  {
   "cell_type": "code",
   "execution_count": 24,
   "metadata": {},
   "outputs": [],
   "source": [
    "# closing a widget\n",
    "w.close()"
   ]
  },
  {
   "cell_type": "code",
   "execution_count": 25,
   "metadata": {},
   "outputs": [
    {
     "data": {
      "application/vnd.jupyter.widget-view+json": {
       "model_id": "fcb5a961a23a442990c79987bdf04e75",
       "version_major": 2,
       "version_minor": 0
      },
      "text/plain": [
       "IntSlider(value=0)"
      ]
     },
     "metadata": {},
     "output_type": "display_data"
    }
   ],
   "source": [
    "w = widgets.IntSlider()\n",
    "display(w)"
   ]
  },
  {
   "cell_type": "code",
   "execution_count": 26,
   "metadata": {},
   "outputs": [
    {
     "data": {
      "text/plain": [
       "69"
      ]
     },
     "execution_count": 26,
     "metadata": {},
     "output_type": "execute_result"
    }
   ],
   "source": [
    "w.value"
   ]
  },
  {
   "cell_type": "code",
   "execution_count": 28,
   "metadata": {},
   "outputs": [],
   "source": [
    "w.value = 23"
   ]
  },
  {
   "cell_type": "code",
   "execution_count": 27,
   "metadata": {},
   "outputs": [
    {
     "data": {
      "text/plain": [
       "['_dom_classes',\n",
       " '_model_module',\n",
       " '_model_module_version',\n",
       " '_model_name',\n",
       " '_view_count',\n",
       " '_view_module',\n",
       " '_view_module_version',\n",
       " '_view_name',\n",
       " 'continuous_update',\n",
       " 'description',\n",
       " 'description_tooltip',\n",
       " 'disabled',\n",
       " 'layout',\n",
       " 'max',\n",
       " 'min',\n",
       " 'orientation',\n",
       " 'readout',\n",
       " 'readout_format',\n",
       " 'step',\n",
       " 'style',\n",
       " 'value']"
      ]
     },
     "execution_count": 27,
     "metadata": {},
     "output_type": "execute_result"
    }
   ],
   "source": [
    "w.keys"
   ]
  },
  {
   "cell_type": "code",
   "execution_count": 29,
   "metadata": {},
   "outputs": [
    {
     "data": {
      "application/vnd.jupyter.widget-view+json": {
       "model_id": "f9052aef8fe1433ca6a680f795bbb333",
       "version_major": 2,
       "version_minor": 0
      },
      "text/plain": [
       "FloatText(value=0.0)"
      ]
     },
     "metadata": {},
     "output_type": "display_data"
    },
    {
     "data": {
      "application/vnd.jupyter.widget-view+json": {
       "model_id": "9af11b107508422fabde0f73caa16f88",
       "version_major": 2,
       "version_minor": 0
      },
      "text/plain": [
       "FloatSlider(value=0.0)"
      ]
     },
     "metadata": {},
     "output_type": "display_data"
    }
   ],
   "source": [
    "# connecting two widgets\n",
    "a = widgets.FloatText()\n",
    "b = widgets.FloatSlider()\n",
    "\n",
    "display(a,b)\n",
    "\n",
    "mylink = widgets.jslink((a, 'value'), (b, 'value'))"
   ]
  },
  {
   "cell_type": "code",
   "execution_count": 30,
   "metadata": {},
   "outputs": [],
   "source": [
    "# unlinking\n",
    "mylink.unlink()"
   ]
  },
  {
   "cell_type": "markdown",
   "metadata": {},
   "source": [
    "### --- Lecture 3 ---"
   ]
  },
  {
   "cell_type": "markdown",
   "metadata": {},
   "source": [
    "<a href=\"https://ipywidgets.readthedocs.io/en/stable/examples/Widget%20List.html\">IPython Widgets List</a>"
   ]
  },
  {
   "cell_type": "code",
   "execution_count": 31,
   "metadata": {},
   "outputs": [],
   "source": [
    "import ipywidgets as widgets"
   ]
  },
  {
   "cell_type": "code",
   "execution_count": 36,
   "metadata": {
    "collapsed": true
   },
   "outputs": [
    {
     "name": "stdout",
     "output_type": "stream",
     "text": [
      "('@jupyter-widgets/base', '1.1.0', 'LayoutModel', '@jupyter-widgets/base', '1.1.0', 'LayoutView')\n",
      "('@jupyter-widgets/controls', '1.4.0', 'AccordionModel', '@jupyter-widgets/controls', '1.4.0', 'AccordionView')\n",
      "('@jupyter-widgets/controls', '1.4.0', 'AudioModel', '@jupyter-widgets/controls', '1.4.0', 'AudioView')\n",
      "('@jupyter-widgets/controls', '1.4.0', 'BoundedFloatTextModel', '@jupyter-widgets/controls', '1.4.0', 'FloatTextView')\n",
      "('@jupyter-widgets/controls', '1.4.0', 'BoundedIntTextModel', '@jupyter-widgets/controls', '1.4.0', 'IntTextView')\n",
      "('@jupyter-widgets/controls', '1.4.0', 'BoxModel', '@jupyter-widgets/controls', '1.4.0', 'BoxView')\n",
      "('@jupyter-widgets/controls', '1.4.0', 'ButtonModel', '@jupyter-widgets/controls', '1.4.0', 'ButtonView')\n",
      "('@jupyter-widgets/controls', '1.4.0', 'ButtonStyleModel', '@jupyter-widgets/base', '1.1.0', 'StyleView')\n",
      "('@jupyter-widgets/controls', '1.4.0', 'CheckboxModel', '@jupyter-widgets/controls', '1.4.0', 'CheckboxView')\n",
      "('@jupyter-widgets/controls', '1.4.0', 'ColorPickerModel', '@jupyter-widgets/controls', '1.4.0', 'ColorPickerView')\n",
      "('@jupyter-widgets/controls', '1.4.0', 'ControllerAxisModel', '@jupyter-widgets/controls', '1.4.0', 'ControllerAxisView')\n",
      "('@jupyter-widgets/controls', '1.4.0', 'ControllerButtonModel', '@jupyter-widgets/controls', '1.4.0', 'ControllerButtonView')\n",
      "('@jupyter-widgets/controls', '1.4.0', 'ControllerModel', '@jupyter-widgets/controls', '1.4.0', 'ControllerView')\n",
      "('@jupyter-widgets/controls', '1.4.0', 'DOMWidgetModel', '@jupyter-widgets/controls', '1.4.0', None)\n",
      "('@jupyter-widgets/controls', '1.4.0', 'DatePickerModel', '@jupyter-widgets/controls', '1.4.0', 'DatePickerView')\n",
      "('@jupyter-widgets/controls', '1.4.0', 'DescriptionStyleModel', '@jupyter-widgets/base', '1.1.0', 'StyleView')\n",
      "('@jupyter-widgets/controls', '1.4.0', 'DirectionalLinkModel', '@jupyter-widgets/controls', '1.4.0', None)\n",
      "('@jupyter-widgets/controls', '1.4.0', 'DropdownModel', '@jupyter-widgets/controls', '1.4.0', 'DropdownView')\n",
      "('@jupyter-widgets/controls', '1.4.0', 'FloatLogSliderModel', '@jupyter-widgets/controls', '1.4.0', 'FloatLogSliderView')\n",
      "('@jupyter-widgets/controls', '1.4.0', 'FloatProgressModel', '@jupyter-widgets/controls', '1.4.0', 'ProgressView')\n",
      "('@jupyter-widgets/controls', '1.4.0', 'FloatRangeSliderModel', '@jupyter-widgets/controls', '1.4.0', 'FloatRangeSliderView')\n",
      "('@jupyter-widgets/controls', '1.4.0', 'FloatSliderModel', '@jupyter-widgets/controls', '1.4.0', 'FloatSliderView')\n",
      "('@jupyter-widgets/controls', '1.4.0', 'FloatTextModel', '@jupyter-widgets/controls', '1.4.0', 'FloatTextView')\n",
      "('@jupyter-widgets/controls', '1.4.0', 'GridBoxModel', '@jupyter-widgets/controls', '1.4.0', 'GridBoxView')\n",
      "('@jupyter-widgets/controls', '1.4.0', 'HBoxModel', '@jupyter-widgets/controls', '1.4.0', 'HBoxView')\n",
      "('@jupyter-widgets/controls', '1.4.0', 'HTMLMathModel', '@jupyter-widgets/controls', '1.4.0', 'HTMLMathView')\n",
      "('@jupyter-widgets/controls', '1.4.0', 'HTMLModel', '@jupyter-widgets/controls', '1.4.0', 'HTMLView')\n",
      "('@jupyter-widgets/controls', '1.4.0', 'ImageModel', '@jupyter-widgets/controls', '1.4.0', 'ImageView')\n",
      "('@jupyter-widgets/controls', '1.4.0', 'IntProgressModel', '@jupyter-widgets/controls', '1.4.0', 'ProgressView')\n",
      "('@jupyter-widgets/controls', '1.4.0', 'IntRangeSliderModel', '@jupyter-widgets/controls', '1.4.0', 'IntRangeSliderView')\n",
      "('@jupyter-widgets/controls', '1.4.0', 'IntSliderModel', '@jupyter-widgets/controls', '1.4.0', 'IntSliderView')\n",
      "('@jupyter-widgets/controls', '1.4.0', 'IntTextModel', '@jupyter-widgets/controls', '1.4.0', 'IntTextView')\n",
      "('@jupyter-widgets/controls', '1.4.0', 'LabelModel', '@jupyter-widgets/controls', '1.4.0', 'LabelView')\n",
      "('@jupyter-widgets/controls', '1.4.0', 'LinkModel', '@jupyter-widgets/controls', '1.4.0', None)\n",
      "('@jupyter-widgets/controls', '1.4.0', 'PasswordModel', '@jupyter-widgets/controls', '1.4.0', 'PasswordView')\n",
      "('@jupyter-widgets/controls', '1.4.0', 'PlayModel', '@jupyter-widgets/controls', '1.4.0', 'PlayView')\n",
      "('@jupyter-widgets/controls', '1.4.0', 'ProgressStyleModel', '@jupyter-widgets/base', '1.1.0', 'StyleView')\n",
      "('@jupyter-widgets/controls', '1.4.0', 'RadioButtonsModel', '@jupyter-widgets/controls', '1.4.0', 'RadioButtonsView')\n",
      "('@jupyter-widgets/controls', '1.4.0', 'SelectModel', '@jupyter-widgets/controls', '1.4.0', 'SelectView')\n",
      "('@jupyter-widgets/controls', '1.4.0', 'SelectMultipleModel', '@jupyter-widgets/controls', '1.4.0', 'SelectMultipleView')\n",
      "('@jupyter-widgets/controls', '1.4.0', 'SelectionRangeSliderModel', '@jupyter-widgets/controls', '1.4.0', 'SelectionRangeSliderView')\n",
      "('@jupyter-widgets/controls', '1.4.0', 'SelectionSliderModel', '@jupyter-widgets/controls', '1.4.0', 'SelectionSliderView')\n",
      "('@jupyter-widgets/controls', '1.4.0', 'SliderStyleModel', '@jupyter-widgets/base', '1.1.0', 'StyleView')\n",
      "('@jupyter-widgets/controls', '1.4.0', 'TabModel', '@jupyter-widgets/controls', '1.4.0', 'TabView')\n",
      "('@jupyter-widgets/controls', '1.4.0', 'TextModel', '@jupyter-widgets/controls', '1.4.0', 'TextView')\n",
      "('@jupyter-widgets/controls', '1.4.0', 'TextareaModel', '@jupyter-widgets/controls', '1.4.0', 'TextareaView')\n",
      "('@jupyter-widgets/controls', '1.4.0', 'ToggleButtonModel', '@jupyter-widgets/controls', '1.4.0', 'ToggleButtonView')\n",
      "('@jupyter-widgets/controls', '1.4.0', 'ToggleButtonsModel', '@jupyter-widgets/controls', '1.4.0', 'ToggleButtonsView')\n",
      "('@jupyter-widgets/controls', '1.4.0', 'ToggleButtonsStyleModel', '@jupyter-widgets/base', '1.1.0', 'StyleView')\n",
      "('@jupyter-widgets/controls', '1.4.0', 'VBoxModel', '@jupyter-widgets/controls', '1.4.0', 'VBoxView')\n",
      "('@jupyter-widgets/controls', '1.4.0', 'ValidModel', '@jupyter-widgets/controls', '1.4.0', 'ValidView')\n",
      "('@jupyter-widgets/controls', '1.4.0', 'VideoModel', '@jupyter-widgets/controls', '1.4.0', 'VideoView')\n",
      "('@jupyter-widgets/output', '1.0.0', 'OutputModel', '@jupyter-widgets/output', '1.0.0', 'OutputView')\n"
     ]
    }
   ],
   "source": [
    "# show all available widgets\n",
    "for item in widgets.Widget.widget_types.items():\n",
    "    print(item[0])"
   ]
  },
  {
   "cell_type": "markdown",
   "metadata": {},
   "source": [
    "### --- Lecture 4 ---"
   ]
  },
  {
   "cell_type": "code",
   "execution_count": 38,
   "metadata": {},
   "outputs": [],
   "source": [
    "import ipywidgets as widgets\n",
    "from IPython.display import display"
   ]
  },
  {
   "cell_type": "code",
   "execution_count": 39,
   "metadata": {},
   "outputs": [
    {
     "data": {
      "application/vnd.jupyter.widget-view+json": {
       "model_id": "d8fe3bfd1a5a4c298be59f5dbcd6b040",
       "version_major": 2,
       "version_minor": 0
      },
      "text/plain": [
       "IntSlider(value=0)"
      ]
     },
     "metadata": {},
     "output_type": "display_data"
    }
   ],
   "source": [
    "w = widgets.IntSlider()\n",
    "display(w)"
   ]
  },
  {
   "cell_type": "code",
   "execution_count": 40,
   "metadata": {},
   "outputs": [],
   "source": [
    "w.layout.margin = 'auto'\n",
    "w.layout.height = '75px'"
   ]
  },
  {
   "cell_type": "code",
   "execution_count": 41,
   "metadata": {},
   "outputs": [
    {
     "data": {
      "application/vnd.jupyter.widget-view+json": {
       "model_id": "3ddaab260da5493eb95277841a21ba15",
       "version_major": 2,
       "version_minor": 0
      },
      "text/plain": [
       "IntSlider(value=15, description='New Slider')"
      ]
     },
     "metadata": {},
     "output_type": "display_data"
    }
   ],
   "source": [
    "x = widgets.IntSlider(value=15, description='New Slider')\n",
    "display(x)"
   ]
  },
  {
   "cell_type": "code",
   "execution_count": 42,
   "metadata": {},
   "outputs": [],
   "source": [
    "x.layout = w.layout"
   ]
  },
  {
   "cell_type": "code",
   "execution_count": 45,
   "metadata": {},
   "outputs": [
    {
     "data": {
      "application/vnd.jupyter.widget-view+json": {
       "model_id": "78753a278f314f72967a56ec9e0ef764",
       "version_major": 2,
       "version_minor": 0
      },
      "text/plain": [
       "Button(button_style='success', description='Ordinary Button', style=ButtonStyle())"
      ]
     },
     "metadata": {},
     "output_type": "display_data"
    }
   ],
   "source": [
    "b = widgets.Button(description='Ordinary Button', button_style='Success')\n",
    "display(b)"
   ]
  },
  {
   "cell_type": "code",
   "execution_count": 46,
   "metadata": {},
   "outputs": [
    {
     "data": {
      "text/plain": [
       "['_dom_classes',\n",
       " '_model_module',\n",
       " '_model_module_version',\n",
       " '_model_name',\n",
       " '_view_count',\n",
       " '_view_module',\n",
       " '_view_module_version',\n",
       " '_view_name',\n",
       " 'button_style',\n",
       " 'description',\n",
       " 'disabled',\n",
       " 'icon',\n",
       " 'layout',\n",
       " 'style',\n",
       " 'tooltip']"
      ]
     },
     "execution_count": 46,
     "metadata": {},
     "output_type": "execute_result"
    }
   ],
   "source": [
    "# available attributes of a button\n",
    "b.keys"
   ]
  }
 ],
 "metadata": {
  "kernelspec": {
   "display_name": "Python 3",
   "language": "python",
   "name": "python3"
  },
  "language_info": {
   "codemirror_mode": {
    "name": "ipython",
    "version": 3
   },
   "file_extension": ".py",
   "mimetype": "text/x-python",
   "name": "python",
   "nbconvert_exporter": "python",
   "pygments_lexer": "ipython3",
   "version": "3.7.0"
  }
 },
 "nbformat": 4,
 "nbformat_minor": 2
}
