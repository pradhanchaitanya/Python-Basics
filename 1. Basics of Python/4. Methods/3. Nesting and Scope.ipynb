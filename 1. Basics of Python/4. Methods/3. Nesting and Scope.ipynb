{
 "cells": [
  {
   "cell_type": "markdown",
   "metadata": {},
   "source": [
    "# Nesting and Scope"
   ]
  },
  {
   "cell_type": "code",
   "execution_count": 1,
   "metadata": {},
   "outputs": [],
   "source": [
    "x = 25\n",
    "\n",
    "def print_it():\n",
    "    x = 50\n",
    "    return x"
   ]
  },
  {
   "cell_type": "code",
   "execution_count": 2,
   "metadata": {},
   "outputs": [
    {
     "name": "stdout",
     "output_type": "stream",
     "text": [
      "25\n"
     ]
    }
   ],
   "source": [
    "# global\n",
    "print(x)"
   ]
  },
  {
   "cell_type": "code",
   "execution_count": 3,
   "metadata": {},
   "outputs": [
    {
     "name": "stdout",
     "output_type": "stream",
     "text": [
      "50\n"
     ]
    }
   ],
   "source": [
    "# local\n",
    "print(print_it())"
   ]
  },
  {
   "cell_type": "markdown",
   "metadata": {},
   "source": [
    "## LEGB Rule:\n",
    "\n",
    "- L: Local -- names assigned in a function or lambda\n",
    "- E: Enclosing function locals -- nested functions\n",
    "- G: Global (module) -- names assigned at the top-level \n",
    "- B: Built-in (Python) -- names pre-assigned"
   ]
  },
  {
   "cell_type": "code",
   "execution_count": 6,
   "metadata": {},
   "outputs": [],
   "source": [
    "# GLOBAL\n",
    "name = \"Global String\"\n",
    "\n",
    "def greet():\n",
    "    # ENCLOSING\n",
    "    name = \"Local\"\n",
    "    \n",
    "    def hello():\n",
    "        print('Hello ' + name)\n",
    "        \n",
    "    hello()"
   ]
  },
  {
   "cell_type": "code",
   "execution_count": 7,
   "metadata": {},
   "outputs": [
    {
     "name": "stdout",
     "output_type": "stream",
     "text": [
      "Hello Local\n"
     ]
    }
   ],
   "source": [
    "greet()"
   ]
  },
  {
   "cell_type": "code",
   "execution_count": 8,
   "metadata": {},
   "outputs": [],
   "source": [
    "# GLOBAL\n",
    "name = \"Global String\"\n",
    "\n",
    "def greet():\n",
    "    # ENCLOSING\n",
    "    # name = \"Local\"\n",
    "    \n",
    "    def hello():\n",
    "        print('Hello ' + name)\n",
    "        \n",
    "    hello()"
   ]
  },
  {
   "cell_type": "code",
   "execution_count": 9,
   "metadata": {},
   "outputs": [
    {
     "name": "stdout",
     "output_type": "stream",
     "text": [
      "Hello Global String\n"
     ]
    }
   ],
   "source": [
    "greet()"
   ]
  },
  {
   "cell_type": "code",
   "execution_count": 10,
   "metadata": {},
   "outputs": [],
   "source": [
    "# GLOBAL\n",
    "name = \"Global String\"\n",
    "\n",
    "def greet():\n",
    "    # ENCLOSING\n",
    "    name = \"Local\"\n",
    "    \n",
    "    def hello():\n",
    "        # LOCAL\n",
    "        name = \"Hello\"\n",
    "        print('Hello ' + name)\n",
    "        \n",
    "    hello()"
   ]
  },
  {
   "cell_type": "code",
   "execution_count": 11,
   "metadata": {},
   "outputs": [
    {
     "name": "stdout",
     "output_type": "stream",
     "text": [
      "Hello Hello\n"
     ]
    }
   ],
   "source": [
    "greet()"
   ]
  },
  {
   "cell_type": "markdown",
   "metadata": {},
   "source": [
    "### Another example"
   ]
  },
  {
   "cell_type": "code",
   "execution_count": 12,
   "metadata": {},
   "outputs": [],
   "source": [
    "x = 50\n",
    "\n",
    "def func(x):\n",
    "    print(f\"x is {x}\")\n",
    "    \n",
    "    # LOCAL REASSIGNMENT\n",
    "    x = 100\n",
    "    print(f\"x is now {x}\")"
   ]
  },
  {
   "cell_type": "code",
   "execution_count": 13,
   "metadata": {},
   "outputs": [
    {
     "name": "stdout",
     "output_type": "stream",
     "text": [
      "x is 50\n",
      "x is now 100\n"
     ]
    }
   ],
   "source": [
    "func(x)"
   ]
  },
  {
   "cell_type": "code",
   "execution_count": 16,
   "metadata": {},
   "outputs": [],
   "source": [
    "# declaring x as global variable\n",
    "x = 50\n",
    "\n",
    "def func():\n",
    "    global x  # jump to the GLOBAL level and grab x\n",
    "    print(f\"x is {x}\")\n",
    "    \n",
    "    # LOCAL REASSIGNMENT\n",
    "    x = 'changed!'\n",
    "    print(f\"x is now {x}\")"
   ]
  },
  {
   "cell_type": "code",
   "execution_count": 17,
   "metadata": {},
   "outputs": [
    {
     "name": "stdout",
     "output_type": "stream",
     "text": [
      "x is 50\n",
      "x is now changed!\n"
     ]
    }
   ],
   "source": [
    "func()"
   ]
  },
  {
   "cell_type": "code",
   "execution_count": 18,
   "metadata": {},
   "outputs": [
    {
     "name": "stdout",
     "output_type": "stream",
     "text": [
      "changed!\n"
     ]
    }
   ],
   "source": [
    "# global x changed\n",
    "print(x)"
   ]
  },
  {
   "cell_type": "markdown",
   "metadata": {},
   "source": [
    "Prefer assigning a value to the global variable rather than modifying globals inside the function definition.\n",
    "\n",
    "In the above example, this would be better.\n",
    "\n",
    "```python\n",
    "    x = func(x)\n",
    "    # global x is reassigned with the new value\n",
    "    # much safer in larger scripts\n",
    "```"
   ]
  }
 ],
 "metadata": {
  "kernelspec": {
   "display_name": "Python 3",
   "language": "python",
   "name": "python3"
  },
  "language_info": {
   "codemirror_mode": {
    "name": "ipython",
    "version": 3
   },
   "file_extension": ".py",
   "mimetype": "text/x-python",
   "name": "python",
   "nbconvert_exporter": "python",
   "pygments_lexer": "ipython3",
   "version": "3.7.0"
  }
 },
 "nbformat": 4,
 "nbformat_minor": 2
}
