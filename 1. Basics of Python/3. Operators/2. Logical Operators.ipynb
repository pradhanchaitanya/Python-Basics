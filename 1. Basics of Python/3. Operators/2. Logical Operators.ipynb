{
 "cells": [
  {
   "cell_type": "markdown",
   "metadata": {},
   "source": [
    "# Logical Operators\n",
    "\n",
    "\n",
    "```python\n",
    "    and\n",
    "    or\n",
    "    not\n",
    "```\n",
    "\n",
    "### Truth Tables\n",
    "\n",
    "<table>\n",
    "    <tr>\n",
    "        <td><b>A</b></td>\n",
    "        <td><b>B</b></td>\n",
    "        <td><b>not A</b></td>\n",
    "        <td><b>A and B</b></td>\n",
    "        <td><b>A or B</b></td>\n",
    "    </tr>\n",
    "    <tr>\n",
    "        <td>T</td>\n",
    "        <td>T</td>\n",
    "        <td>F</td>\n",
    "        <td>T</td>\n",
    "        <td>T</td>\n",
    "    </tr>\n",
    "    <tr>\n",
    "        <td>T</td>\n",
    "        <td>F</td>\n",
    "        <td>F</td>\n",
    "        <td>F</td>\n",
    "        <td>T</td>\n",
    "    </tr>\n",
    "    <tr>\n",
    "        <td>F</td>\n",
    "        <td>T</td>\n",
    "        <td>T</td>\n",
    "        <td>F</td>\n",
    "        <td>T</td>\n",
    "    </tr>\n",
    "    <tr>\n",
    "        <td>F</td>\n",
    "        <td>F</td>\n",
    "        <td>T</td>\n",
    "        <td>F</td>\n",
    "        <td>F</td>\n",
    "    </tr>\n",
    "</table>"
   ]
  },
  {
   "cell_type": "code",
   "execution_count": 1,
   "metadata": {},
   "outputs": [
    {
     "data": {
      "text/plain": [
       "True"
      ]
     },
     "execution_count": 1,
     "metadata": {},
     "output_type": "execute_result"
    }
   ],
   "source": [
    "2 < 3"
   ]
  },
  {
   "cell_type": "code",
   "execution_count": 2,
   "metadata": {},
   "outputs": [
    {
     "data": {
      "text/plain": [
       "True"
      ]
     },
     "execution_count": 2,
     "metadata": {},
     "output_type": "execute_result"
    }
   ],
   "source": [
    "1 < 2 and 5 > 3"
   ]
  },
  {
   "cell_type": "code",
   "execution_count": 3,
   "metadata": {},
   "outputs": [
    {
     "data": {
      "text/plain": [
       "False"
      ]
     },
     "execution_count": 3,
     "metadata": {},
     "output_type": "execute_result"
    }
   ],
   "source": [
    "('h' == 'e') or ('s' == 'd')"
   ]
  },
  {
   "cell_type": "code",
   "execution_count": 4,
   "metadata": {},
   "outputs": [
    {
     "data": {
      "text/plain": [
       "True"
      ]
     },
     "execution_count": 4,
     "metadata": {},
     "output_type": "execute_result"
    }
   ],
   "source": [
    "('h' == 'e') or ('s' != 'd')"
   ]
  },
  {
   "cell_type": "code",
   "execution_count": 5,
   "metadata": {},
   "outputs": [
    {
     "data": {
      "text/plain": [
       "True"
      ]
     },
     "execution_count": 5,
     "metadata": {},
     "output_type": "execute_result"
    }
   ],
   "source": [
    "not 400 > 500"
   ]
  }
 ],
 "metadata": {
  "kernelspec": {
   "display_name": "Python 3",
   "language": "python",
   "name": "python3"
  },
  "language_info": {
   "codemirror_mode": {
    "name": "ipython",
    "version": 3
   },
   "file_extension": ".py",
   "mimetype": "text/x-python",
   "name": "python",
   "nbconvert_exporter": "python",
   "pygments_lexer": "ipython3",
   "version": "3.7.0"
  }
 },
 "nbformat": 4,
 "nbformat_minor": 2
}
