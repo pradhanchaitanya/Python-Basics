{
 "cells": [
  {
   "cell_type": "markdown",
   "metadata": {},
   "source": [
    "# Conditional Statements"
   ]
  },
  {
   "cell_type": "markdown",
   "metadata": {},
   "source": [
    "```python\n",
    "    if\n",
    "    else\n",
    "    elif\n",
    "```"
   ]
  },
  {
   "cell_type": "markdown",
   "metadata": {},
   "source": [
    "Syntax:\n",
    "\n",
    "```python\n",
    "# conditions are boolean expressions\n",
    "\n",
    "if some_condition:\n",
    "    # execute some code\n",
    "elif some_other_condition:\n",
    "    # execute a different code\n",
    "else:\n",
    "    # do something else\n",
    "```"
   ]
  },
  {
   "cell_type": "code",
   "execution_count": 1,
   "metadata": {},
   "outputs": [
    {
     "name": "stdout",
     "output_type": "stream",
     "text": [
      "It's true!\n"
     ]
    }
   ],
   "source": [
    "if True:\n",
    "    print(\"It's true!\")"
   ]
  },
  {
   "cell_type": "code",
   "execution_count": 4,
   "metadata": {},
   "outputs": [
    {
     "name": "stdout",
     "output_type": "stream",
     "text": [
      "Give me some food\n"
     ]
    }
   ],
   "source": [
    "hungry = True\n",
    "\n",
    "if hungry:\n",
    "    print(\"Give me some food\")\n",
    "else:\n",
    "    print(\"Do nothing\")"
   ]
  },
  {
   "cell_type": "code",
   "execution_count": 3,
   "metadata": {},
   "outputs": [
    {
     "name": "stdout",
     "output_type": "stream",
     "text": [
      "Do nothing\n"
     ]
    }
   ],
   "source": [
    "hungry = False\n",
    "\n",
    "if hungry:\n",
    "    print(\"Give me some food\")\n",
    "else:\n",
    "    print(\"Do nothing\")"
   ]
  },
  {
   "cell_type": "code",
   "execution_count": 6,
   "metadata": {},
   "outputs": [
    {
     "name": "stdout",
     "output_type": "stream",
     "text": [
      "service.yahoo.com\n"
     ]
    }
   ],
   "source": [
    "domain = 'yahoo'\n",
    "\n",
    "if domain == 'google':\n",
    "    print(\"service.google.com\")\n",
    "elif domain == 'yahoo':\n",
    "    print(\"service.yahoo.com\")\n",
    "else:\n",
    "    print(\"Not a registered Google domain\")"
   ]
  },
  {
   "cell_type": "code",
   "execution_count": 7,
   "metadata": {},
   "outputs": [
    {
     "name": "stdout",
     "output_type": "stream",
     "text": [
      "9\n"
     ]
    }
   ],
   "source": [
    "# else-if ladder\n",
    "\n",
    "score = 79\n",
    "\n",
    "if score > 80:\n",
    "    cgpa = 10\n",
    "elif score > 75:\n",
    "    cgpa = 9\n",
    "elif score > 70:\n",
    "    cgpa = 8\n",
    "else:\n",
    "    cpga = 7\n",
    "    \n",
    "print(cgpa)"
   ]
  }
 ],
 "metadata": {
  "kernelspec": {
   "display_name": "Python 3",
   "language": "python",
   "name": "python3"
  },
  "language_info": {
   "codemirror_mode": {
    "name": "ipython",
    "version": 3
   },
   "file_extension": ".py",
   "mimetype": "text/x-python",
   "name": "python",
   "nbconvert_exporter": "python",
   "pygments_lexer": "ipython3",
   "version": "3.7.0"
  }
 },
 "nbformat": 4,
 "nbformat_minor": 2
}
